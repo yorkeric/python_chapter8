{
 "cells": [
  {
   "attachments": {},
   "cell_type": "markdown",
   "metadata": {},
   "source": [
    "## Chapter 8 Exercises\n",
    "### Algorithm Workbench\n",
    "#### Question 1"
   ]
  },
  {
   "cell_type": "code",
   "execution_count": 2,
   "metadata": {},
   "outputs": [
    {
     "name": "stdout",
     "output_type": "stream",
     "text": [
      "Success\n"
     ]
    }
   ],
   "source": [
    "# Rewrite the following statement to not use the or operator \n",
    "#   if choice == 'Y or choice == 'y'\n",
    "# Main Function\n",
    "def main ():\n",
    "    choice = 'y'\n",
    "    # use the string upper method to set the value to 'Y' and then compare that it equals 'Y'\n",
    "    if choice.upper() == 'Y':\n",
    "        print(\"Success\")\n",
    "\n",
    "# Call main function\n",
    "main()"
   ]
  },
  {
   "cell_type": "markdown",
   "metadata": {},
   "source": [
    "#### Question 7"
   ]
  },
  {
   "cell_type": "code",
   "execution_count": 20,
   "metadata": {},
   "outputs": [
    {
     "name": "stdout",
     "output_type": "stream",
     "text": [
      "Word entered is ericyork and backwards is kroycire\n"
     ]
    }
   ],
   "source": [
    "# Write a function that accepts a string argument and prints the string backwards\n",
    "# Main Function\n",
    "def main ():\n",
    "    # Prompt for a word\n",
    "    word = input('Enter a word and it will print it backwards:')\n",
    "    # Call the reverse_string function passing the word argument\n",
    "    word_backward = reverse_string(word)\n",
    "    # Print the result\n",
    "    print('Word entered is', word, 'and backwards is', word_backward)\n",
    "\n",
    "def reverse_string(word):\n",
    "    result = \"\"\n",
    "    # Loop over each character of the word\n",
    "    for i in word:\n",
    "        # Append the character to the beginning of the result each loop\n",
    "        result = i + result\n",
    "    # Return the result\n",
    "    return result\n",
    "    \n",
    "# Call main function\n",
    "main()"
   ]
  },
  {
   "cell_type": "markdown",
   "metadata": {},
   "source": [
    "### Programming Exercises\n",
    "#### Question 1 - Initials"
   ]
  },
  {
   "cell_type": "code",
   "execution_count": 27,
   "metadata": {},
   "outputs": [
    {
     "name": "stdout",
     "output_type": "stream",
     "text": [
      "J. W. S.\n"
     ]
    }
   ],
   "source": [
    "# Write a program that will display a person's initials from their full name\n",
    "# Prompt to enter the person's full name\n",
    "full_name = input(\"Enter the first, middle, and last name:\")\n",
    "# Split the string on the comma and get the first element\n",
    "first_name = full_name.split(\" \")[0]\n",
    "# Split the string on the comma and get the seciond element\n",
    "middle_name = full_name.split(\" \")[1]\n",
    "# Split the string on the comma and get the third element\n",
    "last_name = full_name.split(\" \")[2]\n",
    "# Print the first character of the first, middle, and last name with formatting (e.g. J. W. S.)\n",
    "print(first_name[:1] + \". \" + middle_name[:1] + \". \" + last_name[:1] + \".\")\n"
   ]
  }
 ],
 "metadata": {
  "kernelspec": {
   "display_name": "Python 3",
   "language": "python",
   "name": "python3"
  },
  "language_info": {
   "codemirror_mode": {
    "name": "ipython",
    "version": 3
   },
   "file_extension": ".py",
   "mimetype": "text/x-python",
   "name": "python",
   "nbconvert_exporter": "python",
   "pygments_lexer": "ipython3",
   "version": "3.11.3"
  },
  "orig_nbformat": 4
 },
 "nbformat": 4,
 "nbformat_minor": 2
}
