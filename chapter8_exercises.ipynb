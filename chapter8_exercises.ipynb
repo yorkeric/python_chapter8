{
 "cells": [
  {
   "attachments": {},
   "cell_type": "markdown",
   "metadata": {},
   "source": [
    "## Chapter 8 Exercises\n",
    "### Algorithm Workbench\n",
    "#### Question 1"
   ]
  },
  {
   "cell_type": "code",
   "execution_count": 2,
   "metadata": {},
   "outputs": [
    {
     "name": "stdout",
     "output_type": "stream",
     "text": [
      "Success\n"
     ]
    }
   ],
   "source": [
    "# Rewrite the following statement to not use the or operator \n",
    "#   if choice == 'Y or choice == 'y'\n",
    "# Main Function\n",
    "def main ():\n",
    "    choice = 'y'\n",
    "    # use the string upper method to set the value to 'Y' and then compare that it equals 'Y'\n",
    "    if choice.upper() == 'Y':\n",
    "        print(\"Success\")\n",
    "\n",
    "# Call main function\n",
    "main()"
   ]
  },
  {
   "cell_type": "markdown",
   "metadata": {},
   "source": [
    "#### Question 7"
   ]
  },
  {
   "cell_type": "code",
   "execution_count": 20,
   "metadata": {},
   "outputs": [
    {
     "name": "stdout",
     "output_type": "stream",
     "text": [
      "Word entered is ericyork and backwards is kroycire\n"
     ]
    }
   ],
   "source": [
    "# Write a function that accepts a string argument and prints the string backwards\n",
    "# Main Function\n",
    "def main ():\n",
    "    # Prompt for a word\n",
    "    word = input('Enter a word and it will print it backwards:')\n",
    "    # Call the reverse_string function passing the word argument\n",
    "    word_backward = reverse_string(word)\n",
    "    # Print the result\n",
    "    print('Word entered is', word, 'and backwards is', word_backward)\n",
    "\n",
    "def reverse_string(word):\n",
    "    result = \"\"\n",
    "    # Loop over each character of the word\n",
    "    for i in word:\n",
    "        # Append the character to the beginning of the result each loop\n",
    "        result = i + result\n",
    "    # Return the result\n",
    "    return result\n",
    "    \n",
    "# Call main function\n",
    "main()"
   ]
  },
  {
   "cell_type": "markdown",
   "metadata": {},
   "source": [
    "### Programming Exercises\n",
    "#### Question 1 - Initials"
   ]
  },
  {
   "cell_type": "code",
   "execution_count": 27,
   "metadata": {},
   "outputs": [
    {
     "name": "stdout",
     "output_type": "stream",
     "text": [
      "J. W. S.\n"
     ]
    }
   ],
   "source": [
    "# Write a program that will display a person's initials from their full name\n",
    "# Main Function\n",
    "def main ():\n",
    "    # Prompt to enter the person's full name\n",
    "    full_name = input(\"Enter the first, middle, and last name:\")\n",
    "    # Split the string on the comma and get the first element\n",
    "    first_name = full_name.split(\" \")[0]\n",
    "    # Split the string on the comma and get the seciond element\n",
    "    middle_name = full_name.split(\" \")[1]\n",
    "    # Split the string on the comma and get the third element\n",
    "    last_name = full_name.split(\" \")[2]\n",
    "    # Print the first character of the first, middle, and last name with formatting (e.g. J. W. S.)\n",
    "    print(first_name[:1] + \". \" + middle_name[:1] + \". \" + last_name[:1] + \".\")\n",
    "\n",
    "# Call main function\n",
    "main()"
   ]
  },
  {
   "cell_type": "markdown",
   "metadata": {},
   "source": [
    "#### Question 3 - Date Printer"
   ]
  },
  {
   "cell_type": "code",
   "execution_count": 17,
   "metadata": {},
   "outputs": [
    {
     "name": "stdout",
     "output_type": "stream",
     "text": [
      "March 12, 2018\n"
     ]
    }
   ],
   "source": [
    "# Write a program that prompts the user for a date in the format mm/dd/yyyy and prints the date in the format March 12, 2018\n",
    "# Main Function\n",
    "def main ():\n",
    "    # Prompt to input a date in the mm/dd/yyyy format and splits on the forward slash into a list\n",
    "    date_input = input('Enter date in mm/dd/yyyy format:').split(\"/\")\n",
    "    # Gets the month from the date input (first element) and strips the leading zeros\n",
    "    month =  int(date_input[0].lstrip())\n",
    "    # Gets the day from the date input (second element)\n",
    "    day =  date_input[1]\n",
    "    # Gets the year from the date input (third element)\n",
    "    year =  date_input[2]\n",
    "    # Defines the list of months that correlate the the month number\n",
    "    month_list = ['January', 'February', 'March', 'April', 'May', 'June', 'July', 'August', 'September', 'October', 'November', 'December']\n",
    "    # Prints the month by looking up the month number - 1 in the month list, prints the day, and year\n",
    "    print(month_list[month - 1] + ' ' + day + ', ' + year)\n",
    "# Call main function\n",
    "main()"
   ]
  },
  {
   "cell_type": "markdown",
   "metadata": {},
   "source": [
    "#### Question 5 - Alphaetic Telephone Number Translator"
   ]
  },
  {
   "cell_type": "code",
   "execution_count": 24,
   "metadata": {},
   "outputs": [
    {
     "name": "stdout",
     "output_type": "stream",
     "text": [
      "Number 3\n",
      "Number 3\n",
      "Number 3\n",
      "Dash -\n",
      "Letter A\n",
      "Letter B\n",
      "Letter C\n",
      "Dash -\n",
      "Number 1\n",
      "Number 2\n",
      "Number 3\n"
     ]
    }
   ],
   "source": [
    "# Write a program that converts alpha numberic phone number (555-GET-FOOD) to a standard phone number (555-438-3663)\n",
    "# Main Function\n",
    "def main ():\n",
    "    # Define a list of letters that correspond to the list of numbers\n",
    "    letters = ['A','B','C','D','E','F','G','H','I','J','K','L','M','N','O','P','Q','R','S','T','U','V','W','X','Y','Z']\n",
    "    # Define a list of numbers that correspond to the list of letters\n",
    "    numbers =[2,2,2,3,3,3,4,4,4,5,5,5,6,6,6,7,7,7,7,8,8,8,9,9,9,9]\n",
    "\n",
    "    # Prompt to enter an alpha numeric phone number and store as a list\n",
    "    phone_number = [*input('Please enter an alpha numeric phone number in the format XXX-XXX-XXXX')]\n",
    "    # Loop over each character in the phone number list\n",
    "    for character in phone_number:\n",
    "        # The following if statements are to test out determining if the character is a number, letter, or dash.  Print it out to verify\n",
    "        if character.isdigit():\n",
    "            print('Number', character)\n",
    "        elif character.isalpha():\n",
    "            print('Letter', character)\n",
    "        elif character == '-':\n",
    "            print(\"Dash\", character) \n",
    "# Call main function\n",
    "main()"
   ]
  }
 ],
 "metadata": {
  "kernelspec": {
   "display_name": "Python 3",
   "language": "python",
   "name": "python3"
  },
  "language_info": {
   "codemirror_mode": {
    "name": "ipython",
    "version": 3
   },
   "file_extension": ".py",
   "mimetype": "text/x-python",
   "name": "python",
   "nbconvert_exporter": "python",
   "pygments_lexer": "ipython3",
   "version": "3.11.3"
  },
  "orig_nbformat": 4
 },
 "nbformat": 4,
 "nbformat_minor": 2
}
